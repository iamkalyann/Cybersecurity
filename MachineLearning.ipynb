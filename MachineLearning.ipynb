{
  "nbformat": 4,
  "nbformat_minor": 0,
  "metadata": {
    "colab": {
      "name": "MachineLearning.ipynb",
      "provenance": [],
      "collapsed_sections": [],
      "toc_visible": true,
      "include_colab_link": true
    },
    "kernelspec": {
      "name": "python3",
      "display_name": "Python 3"
    }
  },
  "cells": [
    {
      "cell_type": "markdown",
      "metadata": {
        "id": "view-in-github",
        "colab_type": "text"
      },
      "source": [
        "<a href=\"https://colab.research.google.com/github/iamkalyann/Cybersecurity/blob/main/MachineLearning.ipynb\" target=\"_parent\"><img src=\"https://colab.research.google.com/assets/colab-badge.svg\" alt=\"Open In Colab\"/></a>"
      ]
    },
    {
      "cell_type": "markdown",
      "metadata": {
        "id": "4qRDTK58GYIs"
      },
      "source": [
        "## Task for this week:\n",
        "\n",
        "1. Train and test a KNN classifier \n",
        "2. Train and test a SVM classifier"
      ]
    },
    {
      "cell_type": "markdown",
      "metadata": {
        "id": "0vTHGRFDhKJl"
      },
      "source": [
        "# Scikit-Learn\n",
        "\n",
        "Scikit-learn is a Python-based machine learning library which includes implementation of various supervised and unsupervised algorithms. This library uses Numpy and SciPy at the backend for numerical and scientific computations."
      ]
    },
    {
      "cell_type": "code",
      "metadata": {
        "id": "dIO3nKDZmbsD"
      },
      "source": [
        "\"\"\"\n",
        "Import the required libraries\n",
        "\"\"\"\n",
        "import numpy as np\n",
        "%matplotlib inline\n",
        "import matplotlib.pyplot as plt\n",
        "# importing a module for splitting a dataset into train, and test\n",
        "from sklearn.model_selection import train_test_split\n",
        "# import Knn classifier\n",
        "from sklearn.neighbors import KNeighborsClassifier\n",
        "# confusion metric\n",
        "from sklearn import metrics"
      ],
      "execution_count": null,
      "outputs": []
    },
    {
      "cell_type": "code",
      "metadata": {
        "id": "k95WsrV1zpI1",
        "colab": {
          "base_uri": "https://localhost:8080/"
        },
        "outputId": "194ebbb3-008f-40ca-c6e7-cb758cfd183b"
      },
      "source": [
        "# Install mglearn library\n",
        "!pip install mglearn\n",
        "import mglearn"
      ],
      "execution_count": null,
      "outputs": [
        {
          "output_type": "stream",
          "text": [
            "Collecting mglearn\n",
            "\u001b[?25l  Downloading https://files.pythonhosted.org/packages/65/38/8aced26fce0b2ae82c3c87cd3b6105f38ca6d9d51704ecc44aa54473e6b9/mglearn-0.1.9.tar.gz (540kB)\n",
            "\u001b[K     |████████████████████████████████| 542kB 8.1MB/s \n",
            "\u001b[?25hRequirement already satisfied: numpy in /usr/local/lib/python3.7/dist-packages (from mglearn) (1.19.5)\n",
            "Requirement already satisfied: matplotlib in /usr/local/lib/python3.7/dist-packages (from mglearn) (3.2.2)\n",
            "Requirement already satisfied: scikit-learn in /usr/local/lib/python3.7/dist-packages (from mglearn) (0.22.2.post1)\n",
            "Requirement already satisfied: pandas in /usr/local/lib/python3.7/dist-packages (from mglearn) (1.1.5)\n",
            "Requirement already satisfied: pillow in /usr/local/lib/python3.7/dist-packages (from mglearn) (7.0.0)\n",
            "Requirement already satisfied: cycler in /usr/local/lib/python3.7/dist-packages (from mglearn) (0.10.0)\n",
            "Requirement already satisfied: imageio in /usr/local/lib/python3.7/dist-packages (from mglearn) (2.4.1)\n",
            "Requirement already satisfied: joblib in /usr/local/lib/python3.7/dist-packages (from mglearn) (1.0.1)\n",
            "Requirement already satisfied: pyparsing!=2.0.4,!=2.1.2,!=2.1.6,>=2.0.1 in /usr/local/lib/python3.7/dist-packages (from matplotlib->mglearn) (2.4.7)\n",
            "Requirement already satisfied: kiwisolver>=1.0.1 in /usr/local/lib/python3.7/dist-packages (from matplotlib->mglearn) (1.3.1)\n",
            "Requirement already satisfied: python-dateutil>=2.1 in /usr/local/lib/python3.7/dist-packages (from matplotlib->mglearn) (2.8.1)\n",
            "Requirement already satisfied: scipy>=0.17.0 in /usr/local/lib/python3.7/dist-packages (from scikit-learn->mglearn) (1.4.1)\n",
            "Requirement already satisfied: pytz>=2017.2 in /usr/local/lib/python3.7/dist-packages (from pandas->mglearn) (2018.9)\n",
            "Requirement already satisfied: six in /usr/local/lib/python3.7/dist-packages (from cycler->mglearn) (1.15.0)\n",
            "Building wheels for collected packages: mglearn\n",
            "  Building wheel for mglearn (setup.py) ... \u001b[?25l\u001b[?25hdone\n",
            "  Created wheel for mglearn: filename=mglearn-0.1.9-py2.py3-none-any.whl size=582638 sha256=6060aa94e5018d68b577ab7f76825b622d516180f82403d558035fcfa71b5d36\n",
            "  Stored in directory: /root/.cache/pip/wheels/eb/a6/ea/a6a3716233fa62fc561259b5cb1e28f79e9ff3592c0adac5f0\n",
            "Successfully built mglearn\n",
            "Installing collected packages: mglearn\n",
            "Successfully installed mglearn-0.1.9\n"
          ],
          "name": "stdout"
        }
      ]
    },
    {
      "cell_type": "markdown",
      "metadata": {
        "id": "9mpVva6HoNoI"
      },
      "source": [
        "## K-Nearest Neighbors Classification\n",
        "\n",
        "**Recap:**\n",
        "* A simple supervised learning algorithm.\n",
        "\n",
        "* Can be used for both classification and regression\n",
        "\n",
        "* Non-parametric: doesn’t make any assumption on the data distribution\n",
        "\n",
        "* Training data is retained to make future predictions \n",
        "\n",
        "**How does it work?**\n",
        "1. Computes distance between the new sample and all training samples\n",
        "2. Distance measure: Euclidean, Manhattan etc.\n",
        "3. Picks ‘k’ entries in the training set which are closest to the new sample\n",
        "4. Majority voting decides the class of the new sample\n",
        "\n",
        "\n",
        "<img src='http://drive.google.com/uc?export=view&id=1R7MSX-8V6SIwSD-_AgkN1als9hAKXSa7' alt='KNN'>\n",
        "\n",
        "Quick Reference: https://scikit-learn.org/stable/modules/neighbors.html \n",
        "\n",
        "Image Source: https://towardsdatascience.com/knn-using-scikit-learn-c6bed765be75\n",
        "\n",
        "Let's take an example of a synthetic two-classification dataset called  **forge dataset** which is provided with the **mglearn** library. The dataset has two features as shown in the following scatter plot."
      ]
    },
    {
      "cell_type": "code",
      "metadata": {
        "id": "0sJjgIBkLOuh",
        "colab": {
          "base_uri": "https://localhost:8080/"
        },
        "outputId": "acb2faff-6419-4a8b-a354-45f61b6fcc85"
      },
      "source": [
        "## Load the forge dataset dataset from mglearn library\n",
        "X,y = mglearn.datasets.make_forge()\n",
        "## print the shape of the dataset\n",
        "print(X.shape)\n",
        "print(y.shape)"
      ],
      "execution_count": null,
      "outputs": [
        {
          "output_type": "stream",
          "text": [
            "(26, 2)\n",
            "(26,)\n"
          ],
          "name": "stdout"
        },
        {
          "output_type": "stream",
          "text": [
            "/usr/local/lib/python3.7/dist-packages/sklearn/utils/deprecation.py:87: FutureWarning: Function make_blobs is deprecated; Please import make_blobs directly from scikit-learn\n",
            "  warnings.warn(msg, category=FutureWarning)\n"
          ],
          "name": "stderr"
        }
      ]
    },
    {
      "cell_type": "code",
      "metadata": {
        "id": "7gDgOiW_k5CZ",
        "colab": {
          "base_uri": "https://localhost:8080/",
          "height": 320
        },
        "outputId": "69a6001b-3556-4c2e-88e6-642454257174"
      },
      "source": [
        "mglearn.plots.plot_knn_classification(n_neighbors=1)"
      ],
      "execution_count": null,
      "outputs": [
        {
          "output_type": "stream",
          "text": [
            "/usr/local/lib/python3.7/dist-packages/sklearn/utils/deprecation.py:87: FutureWarning: Function make_blobs is deprecated; Please import make_blobs directly from scikit-learn\n",
            "  warnings.warn(msg, category=FutureWarning)\n"
          ],
          "name": "stderr"
        },
        {
          "output_type": "display_data",
          "data": {
            "image/png": "[encoded data removed]",
            "text/plain": [
              "<Figure size 432x288 with 1 Axes>"
            ]
          },
          "metadata": {
            "tags": [],
            "needs_background": "light"
          }
        }
      ]
    },
    {
      "cell_type": "code",
      "metadata": {
        "id": "nHaIKdssnkIu",
        "colab": {
          "base_uri": "https://localhost:8080/",
          "height": 320
        },
        "outputId": "0832b336-e527-4e3a-909c-091503df8e83"
      },
      "source": [
        "mglearn.plots.plot_knn_classification(n_neighbors=3)"
      ],
      "execution_count": null,
      "outputs": [
        {
          "output_type": "stream",
          "text": [
            "/usr/local/lib/python3.7/dist-packages/sklearn/utils/deprecation.py:87: FutureWarning: Function make_blobs is deprecated; Please import make_blobs directly from scikit-learn\n",
            "  warnings.warn(msg, category=FutureWarning)\n"
          ],
          "name": "stderr"
        },
        {
          "output_type": "display_data",
          "data": {
            "image/png": "[encoded data removed]",
            "text/plain": [
              "<Figure size 432x288 with 1 Axes>"
            ]
          },
          "metadata": {
            "tags": [],
            "needs_background": "light"
          }
        }
      ]
    },
    {
      "cell_type": "markdown",
      "metadata": {
        "id": "bxx6zpQ5NNSw"
      },
      "source": [
        "### Step-1: Create the training and test dataset"
      ]
    },
    {
      "cell_type": "code",
      "metadata": {
        "id": "M2muxYFjoM2t"
      },
      "source": [
        "# Divided the dataset into train and test\n",
        "X_train,X_test,y_train,y_test=train_test_split(X,y,random_state=0)"
      ],
      "execution_count": null,
      "outputs": []
    },
    {
      "cell_type": "markdown",
      "metadata": {
        "id": "T0Is9EbLNU9b"
      },
      "source": [
        "### Step-2: Create an instance of a K-NN model with 3 NNs"
      ]
    },
    {
      "cell_type": "code",
      "metadata": {
        "id": "trEE2SHOOsLU"
      },
      "source": [
        "# Create an instance of a k-NN model with 3 nearest neighbors\n",
        "clf=KNeighborsClassifier(n_neighbors=3)"
      ],
      "execution_count": null,
      "outputs": []
    },
    {
      "cell_type": "markdown",
      "metadata": {
        "id": "lHgqg_zhNh_0"
      },
      "source": [
        "### Step-3: Fit the model with training data"
      ]
    },
    {
      "cell_type": "code",
      "metadata": {
        "id": "KqMXo5AKR6sK",
        "colab": {
          "base_uri": "https://localhost:8080/"
        },
        "outputId": "897c52a8-7bd2-4e16-8c38-286426fbdc6f"
      },
      "source": [
        "# Fit the model, clf, to the training set.\n",
        "clf.fit(X_train,y_train)"
      ],
      "execution_count": null,
      "outputs": [
        {
          "output_type": "execute_result",
          "data": {
            "text/plain": [
              "KNeighborsClassifier(algorithm='auto', leaf_size=30, metric='minkowski',\n",
              "                     metric_params=None, n_jobs=None, n_neighbors=3, p=2,\n",
              "                     weights='uniform')"
            ]
          },
          "metadata": {
            "tags": []
          },
          "execution_count": 9
        }
      ]
    },
    {
      "cell_type": "markdown",
      "metadata": {
        "id": "3yHb4IELNsEX"
      },
      "source": [
        "### Step-4: Make a prediction on the test dataset"
      ]
    },
    {
      "cell_type": "code",
      "metadata": {
        "id": "5__GvqEGqpdJ",
        "colab": {
          "base_uri": "https://localhost:8080/"
        },
        "outputId": "34a4580f-7a95-4c50-b679-25aed7be1b92"
      },
      "source": [
        "# Calculate the predictions for y_test with the clf model\n",
        "y_predicted=clf.predict(X_test)\n",
        "print(\"Test set predictions: {}\".format(clf.predict(X_test)))"
      ],
      "execution_count": null,
      "outputs": [
        {
          "output_type": "stream",
          "text": [
            "Test set predictions: [1 0 1 0 1 0 0]\n"
          ],
          "name": "stdout"
        }
      ]
    },
    {
      "cell_type": "code",
      "metadata": {
        "id": "WEO46sx2z_Vq",
        "colab": {
          "base_uri": "https://localhost:8080/"
        },
        "outputId": "a72a4adc-45e5-4597-c4f7-dfd1722eed8a"
      },
      "source": [
        "y_test"
      ],
      "execution_count": null,
      "outputs": [
        {
          "output_type": "execute_result",
          "data": {
            "text/plain": [
              "array([1, 0, 1, 0, 1, 1, 0])"
            ]
          },
          "metadata": {
            "tags": []
          },
          "execution_count": 11
        }
      ]
    },
    {
      "cell_type": "markdown",
      "metadata": {
        "id": "hccSVT6NN_gI"
      },
      "source": [
        "### Step-5: Compute the accuracy of the K-NN Model"
      ]
    },
    {
      "cell_type": "code",
      "metadata": {
        "id": "WJNxTcanR-QE",
        "colab": {
          "base_uri": "https://localhost:8080/"
        },
        "outputId": "c40af44b-92f1-430a-b16a-a677725326af"
      },
      "source": [
        "print(\"Test set Accuracy: {:.2f}\".format(clf.score(X_test,y_test)))"
      ],
      "execution_count": null,
      "outputs": [
        {
          "output_type": "stream",
          "text": [
            "Test set Accuracy: 0.86\n"
          ],
          "name": "stdout"
        }
      ]
    },
    {
      "cell_type": "code",
      "metadata": {
        "id": "CsR5EYn8AYPR",
        "colab": {
          "base_uri": "https://localhost:8080/"
        },
        "outputId": "c0fbc6ce-2c88-4ddf-b6c6-77e23b622d19"
      },
      "source": [
        "print(metrics.confusion_matrix(y_test, y_predicted))"
      ],
      "execution_count": null,
      "outputs": [
        {
          "output_type": "stream",
          "text": [
            "[[3 0]\n",
            " [1 3]]\n"
          ],
          "name": "stdout"
        }
      ]
    },
    {
      "cell_type": "markdown",
      "metadata": {
        "id": "99I5pnXFq8rM"
      },
      "source": [
        "## Analyzing KNeighbors Classifier for better understanding\n",
        "\n",
        "Lets plot the K-NN decision bourndaris using different values of K, such as 1, 3 , 5 and 9, for better understanding."
      ]
    },
    {
      "cell_type": "code",
      "metadata": {
        "id": "6UFaVcMxSaRR",
        "colab": {
          "base_uri": "https://localhost:8080/",
          "height": 295
        },
        "outputId": "e9f00b59-83a0-4589-e767-69f9efd24b81"
      },
      "source": [
        "fig, axes = plt.subplots(1, 4, figsize=(10, 4))\n",
        "\n",
        "for n_neighbors, ax in zip([1, 3, 5, 9], axes):\n",
        "    # the fit method returns the object self, so we can instantiate\n",
        "    # and fit in one line\n",
        "    clf = KNeighborsClassifier(n_neighbors=n_neighbors).fit(X, y)\n",
        "    mglearn.plots.plot_2d_separator(clf, X, fill=True, eps=0.5, ax=ax, alpha=.4)\n",
        "    mglearn.discrete_scatter(X[:, 0], X[:, 1], y, ax=ax)\n",
        "    ax.set_title(\"{} neighbor(s)\".format(n_neighbors))\n",
        "    ax.set_xlabel(\"feature 0\")\n",
        "    ax.set_ylabel(\"feature 1\")\n",
        "axes[0].legend(loc=4)"
      ],
      "execution_count": null,
      "outputs": [
        {
          "output_type": "execute_result",
          "data": {
            "text/plain": [
              "<matplotlib.legend.Legend at 0x7f269d99b190>"
            ]
          },
          "metadata": {
            "tags": []
          },
          "execution_count": 14
        },
        {
          "output_type": "display_data",
          "data": {
            "image/png": "[encoded data removed]",
            "text/plain": [
              "<Figure size 720x288 with 4 Axes>"
            ]
          },
          "metadata": {
            "tags": []
          }
        }
      ]
    },
    {
      "cell_type": "markdown",
      "metadata": {
        "id": "wYSZZLWErYWv"
      },
      "source": [
        "## Task 1: Train and Test a KNN classifier on Breast Cancer dataset\n",
        "\n",
        "The Breast Cancer dataset contains clinical measurements of breast cancer tumor. The tumor is either \"Benign(harmless)\" or \"Malignant (harmful).\" The task is to train the classifier to predict a class (Benign Vs. Malignant ) for tumor based on its measurement. This dataset contains 569 examples, each with 30 features.\n",
        "\n",
        "Complete the code given below:\n",
        "\n",
        "\n"
      ]
    },
    {
      "cell_type": "code",
      "metadata": {
        "id": "0NeC-KI-rXER",
        "colab": {
          "base_uri": "https://localhost:8080/"
        },
        "outputId": "bcea88a4-2936-4d0e-a676-6ec5ea922684"
      },
      "source": [
        "# import a breast cancer dataset\n",
        "from sklearn.datasets import load_breast_cancer\n",
        "# load the dataset similar to the example above\n",
        "cancer= load_breast_cancer()\n",
        "\n",
        "# Examin the keys of the loaded cancer dataset\n",
        "\n",
        "cancer.keys()\n",
        "\n",
        "# print the shape of the data\n",
        "cancer.data.shape\n",
        "\n",
        "# how many are malignant and how many are benign\n",
        "\n",
        "print(\"Sample counts for class:\\n{}\".format({n: v for n, v in zip(cancer.target_names, np.bincount(cancer.target))}))\n",
        "\n",
        "### START YOUR CODE FROM HERE ###\n",
        "## 1. Split the dataset into train and test sets (~ 1 line)\n",
        "## Hint: use train_test_split(), random_state=66\n",
        "X_train, X_test, y_train, y_test = train_test_split(X,y,random_state=66)\n",
        "\n",
        "## 2. build the model(~ 2 line)\n",
        "## 2.1 Create an instance of the KNN classifier with k=3\n",
        "clf = KNeighborsClassifier(n_neighbors=3)\n",
        "\n",
        "## 2.2 Fit the model to the training dataset\n",
        "clf.fit(X_train,y_train)\n",
        "\n",
        "## 3. Calculate the train set accuracy (~ 1 line)\n",
        "## Hint use clf.score()\n",
        "acc_train = clf.predict(X_train)\n",
        "print('Train set accuracy: ', acc_train)\n",
        "\n",
        "\n",
        "## 4. Calculate the test set accuracy  (~ 1 line)\n",
        "## Hint use clf.score()\n",
        "acc_test = clf.predict(X_test)\n",
        "print('Test set accuracy: ', acc_test)\n",
        "\n",
        "### END OF CODE ###"
      ],
      "execution_count": null,
      "outputs": [
        {
          "output_type": "stream",
          "text": [
            "Sample counts for class:\n",
            "{'malignant': 212, 'benign': 357}\n",
            "Train set accuracy:  [1 1 1 1 0 0 1 0 0 0 1 0 1 1 1 0 1 0 0]\n",
            "Test set accuracy:  [0 0 1 1 0 1 0]\n"
          ],
          "name": "stdout"
        }
      ]
    },
    {
      "cell_type": "code",
      "metadata": {
        "id": "erziV6t-_jS9",
        "colab": {
          "base_uri": "https://localhost:8080/"
        },
        "outputId": "cfb78331-87d9-45ed-f80c-a927f91c30a7"
      },
      "source": [
        "y_test"
      ],
      "execution_count": null,
      "outputs": [
        {
          "output_type": "execute_result",
          "data": {
            "text/plain": [
              "array([0, 0, 0, 1, 0, 1, 0])"
            ]
          },
          "metadata": {
            "tags": []
          },
          "execution_count": 16
        }
      ]
    },
    {
      "cell_type": "markdown",
      "metadata": {
        "id": "jLmS-Sl8lCg5"
      },
      "source": [
        "# Linear SVM Vs. Logistic Regression\n",
        "\n",
        "**Goal:** Given a binary classification problem, the goal to fit the best line to the training data and have a maximum probability of classifying unseen data. \n",
        "\n",
        "There are two most common algorithms for  classification namely Logistic Regression and Support Vector Machines (SVM). Both these algorithms are implemented in  linear_model.LogisticRegression and svm.LinearSVC respectively. \n",
        "\n",
        "In logistic regression, we take the output of the linear function and squash the value within the range of [0,1] using the sigmoid function( logistic function). The Sigmoid-Function is an S-shaped curve that can take any real-valued number and map it into a value between the range of 0 and 1, but never exactly at those limits. Typically, if the squashed value is greater than a threshold value we assign it a label 1, else we assign it a label 0. This justifies the name ‘logistic regression’.\n",
        "Note that the difference between logistic and linear regression is that Logistic regression gives you a discrete outcome but linear regression gives a continuous outcome.\n",
        "\n",
        "**Note:** Logistic regression is a classification algorithm and it should not be confused with Linear regression.\n",
        "\n",
        "**Reference**: https://towardsdatascience.com/support-vector-machine-vs-logistic-regression-94cc2975433f\n"
      ]
    },
    {
      "cell_type": "markdown",
      "metadata": {
        "id": "gGWUCltIWHFz"
      },
      "source": [
        "### Example-1: Train and test Linear SVM and Logistic Regression on Forge Dataset\n"
      ]
    },
    {
      "cell_type": "code",
      "metadata": {
        "id": "rG-Bie4STnL-",
        "colab": {
          "base_uri": "https://localhost:8080/",
          "height": 331
        },
        "outputId": "202f2d33-f622-4ca1-e747-81c87c1e2ff8"
      },
      "source": [
        "## Import the library for Logistic Regression and Linear SVM\n",
        "from sklearn.linear_model import LogisticRegression\n",
        "from sklearn.svm import LinearSVC\n",
        "\n",
        "## Load the forge dataset from mglearn library\n",
        "X, y = mglearn.datasets.make_forge()\n",
        "\n",
        "## Create subplot for displaying the resuls\n",
        "fig, axes = plt.subplots(1, 2, figsize=(10, 3))\n",
        "\n",
        "## Create model for Linear SVM and Logistic Regression\n",
        "for model, ax in zip([LinearSVC(), LogisticRegression()], axes):\n",
        "    clf = model.fit(X, y)\n",
        "    mglearn.plots.plot_2d_separator(clf, X, fill=False, eps=0.5,\n",
        "                                    ax=ax, alpha=.7)\n",
        "    mglearn.discrete_scatter(X[:, 0], X[:, 1], y, ax=ax)\n",
        "    ax.set_title(clf.__class__.__name__)\n",
        "    ax.set_xlabel(\"Feature 0\")\n",
        "    ax.set_ylabel(\"Feature 1\")\n",
        "axes[0].legend()"
      ],
      "execution_count": null,
      "outputs": [
        {
          "output_type": "stream",
          "text": [
            "/usr/local/lib/python3.7/dist-packages/sklearn/utils/deprecation.py:87: FutureWarning: Function make_blobs is deprecated; Please import make_blobs directly from scikit-learn\n",
            "  warnings.warn(msg, category=FutureWarning)\n",
            "/usr/local/lib/python3.7/dist-packages/sklearn/svm/_base.py:947: ConvergenceWarning: Liblinear failed to converge, increase the number of iterations.\n",
            "  \"the number of iterations.\", ConvergenceWarning)\n"
          ],
          "name": "stderr"
        },
        {
          "output_type": "execute_result",
          "data": {
            "text/plain": [
              "<matplotlib.legend.Legend at 0x7f269df4b750>"
            ]
          },
          "metadata": {
            "tags": []
          },
          "execution_count": 17
        },
        {
          "output_type": "display_data",
          "data": {
            "image/png": "[encoded data removed]",
            "text/plain": [
              "<Figure size 720x216 with 2 Axes>"
            ]
          },
          "metadata": {
            "tags": []
          }
        }
      ]
    },
    {
      "cell_type": "markdown",
      "metadata": {
        "id": "6BSA_9aMrjh0"
      },
      "source": [
        "Both the model uses L2 regularization. The trade-off parameter C determine the strength of the regularization. A higher level of C corresponds to less regularizations"
      ]
    },
    {
      "cell_type": "code",
      "metadata": {
        "id": "iyVplz94iQiR",
        "colab": {
          "base_uri": "https://localhost:8080/",
          "height": 268
        },
        "outputId": "cf24a3b2-76aa-4be5-842c-dbabdaa1ef4b"
      },
      "source": [
        "mglearn.plots.plot_linear_svc_regularization()"
      ],
      "execution_count": null,
      "outputs": [
        {
          "output_type": "display_data",
          "data": {
            "image/png": "[encoded data removed]",
            "text/plain": [
              "<Figure size 864x288 with 3 Axes>"
            ]
          },
          "metadata": {
            "tags": []
          }
        }
      ]
    },
    {
      "cell_type": "markdown",
      "metadata": {
        "id": "H-f2HI03WXOz"
      },
      "source": [
        "### Example-2: Train and test a Logistic regression on Breast Cancer Dataset"
      ]
    },
    {
      "cell_type": "code",
      "metadata": {
        "id": "7FXbv81liRcd",
        "colab": {
          "base_uri": "https://localhost:8080/"
        },
        "outputId": "c85c8ab2-3e46-46ec-cedf-a1f80a626d4e"
      },
      "source": [
        "## Apply Logistic Regression on Breast Cancer Dataset\n",
        "## 1. Load the dataset\n",
        "cancer = load_breast_cancer()\n",
        "\n",
        "## 2. Create train and test datasets\n",
        "X_train, X_test, y_train, y_test = train_test_split(\n",
        "    cancer.data, cancer.target, random_state=42)\n",
        "\n",
        "## 3. Create a Logistic Regression classifier\n",
        "logreg = LogisticRegression().fit(X_train, y_train)\n",
        "\n",
        "## 4. Evaluate the accuracy of the trained model\n",
        "print(\"Training set score: {:.3f}\".format(logreg.score(X_train, y_train)))\n",
        "print(\"Test set score: {:.3f}\".format(logreg.score(X_test, y_test)))"
      ],
      "execution_count": null,
      "outputs": [
        {
          "output_type": "stream",
          "text": [
            "Training set score: 0.953\n",
            "Test set score: 0.965\n"
          ],
          "name": "stdout"
        },
        {
          "output_type": "stream",
          "text": [
            "/usr/local/lib/python3.7/dist-packages/sklearn/linear_model/_logistic.py:940: ConvergenceWarning: lbfgs failed to converge (status=1):\n",
            "STOP: TOTAL NO. of ITERATIONS REACHED LIMIT.\n",
            "\n",
            "Increase the number of iterations (max_iter) or scale the data as shown in:\n",
            "    https://scikit-learn.org/stable/modules/preprocessing.html\n",
            "Please also refer to the documentation for alternative solver options:\n",
            "    https://scikit-learn.org/stable/modules/linear_model.html#logistic-regression\n",
            "  extra_warning_msg=_LOGISTIC_SOLVER_CONVERGENCE_MSG)\n"
          ],
          "name": "stderr"
        }
      ]
    },
    {
      "cell_type": "markdown",
      "metadata": {
        "id": "WkpGBckvivf6"
      },
      "source": [
        "## Task 2. Apply SVM with linear kernel to the breast cancer dataset."
      ]
    },
    {
      "cell_type": "code",
      "metadata": {
        "id": "5B-9XltUiZKH",
        "colab": {
          "base_uri": "https://localhost:8080/"
        },
        "outputId": "cb630881-b620-48c1-abd8-be5d246ae24e"
      },
      "source": [
        "## Load and display the features of the Breast Cancer Dataset\n",
        "cancer = load_breast_cancer()\n",
        "\n",
        "print(\"Features: \", cancer.feature_names)"
      ],
      "execution_count": null,
      "outputs": [
        {
          "output_type": "stream",
          "text": [
            "Features:  ['mean radius' 'mean texture' 'mean perimeter' 'mean area'\n",
            " 'mean smoothness' 'mean compactness' 'mean concavity'\n",
            " 'mean concave points' 'mean symmetry' 'mean fractal dimension'\n",
            " 'radius error' 'texture error' 'perimeter error' 'area error'\n",
            " 'smoothness error' 'compactness error' 'concavity error'\n",
            " 'concave points error' 'symmetry error' 'fractal dimension error'\n",
            " 'worst radius' 'worst texture' 'worst perimeter' 'worst area'\n",
            " 'worst smoothness' 'worst compactness' 'worst concavity'\n",
            " 'worst concave points' 'worst symmetry' 'worst fractal dimension']\n"
          ],
          "name": "stdout"
        }
      ]
    },
    {
      "cell_type": "code",
      "metadata": {
        "id": "VlFHM1jfjGCx",
        "colab": {
          "base_uri": "https://localhost:8080/"
        },
        "outputId": "10be9831-0ea4-4086-815a-e9d795124e98"
      },
      "source": [
        "## Display the target labels\n",
        "print(\"Labels: \", cancer.target_names)"
      ],
      "execution_count": null,
      "outputs": [
        {
          "output_type": "stream",
          "text": [
            "Labels:  ['malignant' 'benign']\n"
          ],
          "name": "stdout"
        }
      ]
    },
    {
      "cell_type": "code",
      "metadata": {
        "id": "1FUgPLWRjSyk",
        "colab": {
          "base_uri": "https://localhost:8080/"
        },
        "outputId": "16e757d3-d2e3-4b12-cc22-eb22151c9189"
      },
      "source": [
        "# print the cancer data features (top 5 records)\n",
        "#\n",
        "print(cancer.data[0:5])"
      ],
      "execution_count": null,
      "outputs": [
        {
          "output_type": "stream",
          "text": [
            "[[1.799e+01 1.038e+01 1.228e+02 1.001e+03 1.184e-01 2.776e-01 3.001e-01\n",
            "  1.471e-01 2.419e-01 7.871e-02 1.095e+00 9.053e-01 8.589e+00 1.534e+02\n",
            "  6.399e-03 4.904e-02 5.373e-02 1.587e-02 3.003e-02 6.193e-03 2.538e+01\n",
            "  1.733e+01 1.846e+02 2.019e+03 1.622e-01 6.656e-01 7.119e-01 2.654e-01\n",
            "  4.601e-01 1.189e-01]\n",
            " [2.057e+01 1.777e+01 1.329e+02 1.326e+03 8.474e-02 7.864e-02 8.690e-02\n",
            "  7.017e-02 1.812e-01 5.667e-02 5.435e-01 7.339e-01 3.398e+00 7.408e+01\n",
            "  5.225e-03 1.308e-02 1.860e-02 1.340e-02 1.389e-02 3.532e-03 2.499e+01\n",
            "  2.341e+01 1.588e+02 1.956e+03 1.238e-01 1.866e-01 2.416e-01 1.860e-01\n",
            "  2.750e-01 8.902e-02]\n",
            " [1.969e+01 2.125e+01 1.300e+02 1.203e+03 1.096e-01 1.599e-01 1.974e-01\n",
            "  1.279e-01 2.069e-01 5.999e-02 7.456e-01 7.869e-01 4.585e+00 9.403e+01\n",
            "  6.150e-03 4.006e-02 3.832e-02 2.058e-02 2.250e-02 4.571e-03 2.357e+01\n",
            "  2.553e+01 1.525e+02 1.709e+03 1.444e-01 4.245e-01 4.504e-01 2.430e-01\n",
            "  3.613e-01 8.758e-02]\n",
            " [1.142e+01 2.038e+01 7.758e+01 3.861e+02 1.425e-01 2.839e-01 2.414e-01\n",
            "  1.052e-01 2.597e-01 9.744e-02 4.956e-01 1.156e+00 3.445e+00 2.723e+01\n",
            "  9.110e-03 7.458e-02 5.661e-02 1.867e-02 5.963e-02 9.208e-03 1.491e+01\n",
            "  2.650e+01 9.887e+01 5.677e+02 2.098e-01 8.663e-01 6.869e-01 2.575e-01\n",
            "  6.638e-01 1.730e-01]\n",
            " [2.029e+01 1.434e+01 1.351e+02 1.297e+03 1.003e-01 1.328e-01 1.980e-01\n",
            "  1.043e-01 1.809e-01 5.883e-02 7.572e-01 7.813e-01 5.438e+00 9.444e+01\n",
            "  1.149e-02 2.461e-02 5.688e-02 1.885e-02 1.756e-02 5.115e-03 2.254e+01\n",
            "  1.667e+01 1.522e+02 1.575e+03 1.374e-01 2.050e-01 4.000e-01 1.625e-01\n",
            "  2.364e-01 7.678e-02]]\n"
          ],
          "name": "stdout"
        }
      ]
    },
    {
      "cell_type": "code",
      "metadata": {
        "id": "jCAcP4-JjbeG",
        "colab": {
          "base_uri": "https://localhost:8080/"
        },
        "outputId": "c6e9a378-77c4-4626-e014-c2d2d636be0a"
      },
      "source": [
        "print(cancer.target[0:5])"
      ],
      "execution_count": null,
      "outputs": [
        {
          "output_type": "stream",
          "text": [
            "[0 0 0 0 0]\n"
          ],
          "name": "stdout"
        }
      ]
    },
    {
      "cell_type": "code",
      "metadata": {
        "id": "GvYS6gdjjie8"
      },
      "source": [
        "## START YOUR FROM HERE ## \n",
        "# 1. Split the dataset in to 30 percent testing and 70 percent training data (~ 1 line)\n",
        "# Hint: use train_test_split() with random_state=109\n",
        "X_train, X_test, y_train, y_test = train_test_split(X, y,random_state=70) # 70% training and 30% test\n",
        "## END YOUR CODE ## "
      ],
      "execution_count": null,
      "outputs": []
    },
    {
      "cell_type": "code",
      "metadata": {
        "id": "-7WuV_dxjo9R"
      },
      "source": [
        "## START YOUR FROM HERE ## \n",
        "#Import svm model\n",
        "from sklearn import svm\n",
        "\n",
        "## 2. Create a svm Classifier (~1 line)\n",
        "## Hint: use svm.SVC, with kernel parameter as 'linear'\n",
        "clf = svm.SVC(kernel= 'linear') # Linear Kernel\n",
        "## 3. Train the model using the training sets (~ 1 line)\n",
        "## Hint: use clf.fit()\n",
        "clf.fit(X_train, y_train)\n",
        "\n",
        "## 4. Predict the response for test dataset (~ 1 line)\n",
        "## Hint: use clf.predict()\n",
        "y_pred = clf.predict(X_test)\n",
        "\n",
        "## END YOUR CODE ##\n",
        "\n",
        "#Import scikit-learn metrics module for accuracy calculation\n",
        "from sklearn import metrics\n",
        "\n",
        "# Model Accuracy: how often is the classifier correct?\n",
        "print(\"Accuracy:\",metrics.accuracy_score(y_test, y_pred))"
      ],
      "execution_count": null,
      "outputs": []
    },
    {
      "cell_type": "code",
      "metadata": {
        "id": "WYfpr-vmjuzU"
      },
      "source": [
        "# Model Precision: what percentage of positive tuples are labeled as such?\n",
        "print(\"Precision:\",metrics.precision_score(y_test, y_pred))\n",
        "\n",
        "# Model Recall: what percentage of positive tuples are labelled as such?\n",
        "print(\"Recall:\",metrics.recall_score(y_test, y_pred))"
      ],
      "execution_count": null,
      "outputs": []
    },
    {
      "cell_type": "markdown",
      "metadata": {
        "id": "Vk_ZhtPPj-kX"
      },
      "source": [
        "# Introduction to Tensorflow"
      ]
    },
    {
      "cell_type": "markdown",
      "metadata": {
        "id": "FD7iLaUmxL-D"
      },
      "source": [
        "TensorFlow is a library developed by the Google Brain Team to accelerate machine learning and deep neural network research.\n",
        "In Tensorflow, all the computations involve tensors. A tensor is a vector or matrix of n-dimensions that represents all types of data. In TensorFlow, all the operations are conducted inside a graph. The graph is a set of computation that takes place successively. Each operation is called an op node and are connected to each other.\n"
      ]
    },
    {
      "cell_type": "markdown",
      "metadata": {
        "id": "JZ-FZ2Dn1OsA"
      },
      "source": [
        "Let 's define the X_1 and X_2 input nodes. When we create a node in Tensorflow, we have to choose what kind of node to create. The X1 and X2 nodes will be a placeholder node. The placeholder assigns a new value each time we make a calculation. "
      ]
    },
    {
      "cell_type": "code",
      "metadata": {
        "id": "M9qvxirE1SJk"
      },
      "source": [
        "# import tensorflow\n",
        "%tensorflow_version 1.x\n",
        "import tensorflow as tf\n",
        "print(tf.__version__)"
      ],
      "execution_count": null,
      "outputs": []
    },
    {
      "cell_type": "markdown",
      "metadata": {
        "id": "A3oIMSOJ1vco"
      },
      "source": [
        "### Step 1: Define the variables."
      ]
    },
    {
      "cell_type": "code",
      "metadata": {
        "id": "quOLsPe-1fW6"
      },
      "source": [
        "X_1 = tf.placeholder(tf.float32, name = \"X_1\")\n",
        "X_2 = tf.placeholder(tf.float32, name = \"X_2\")"
      ],
      "execution_count": null,
      "outputs": []
    },
    {
      "cell_type": "markdown",
      "metadata": {
        "id": "2C44azl-13Xq"
      },
      "source": [
        "### Step 2: Define the computation"
      ]
    },
    {
      "cell_type": "code",
      "metadata": {
        "id": "k6YSd1gu1lZV"
      },
      "source": [
        "multiply = tf.multiply(X_1, X_2, name = \"multiply\")"
      ],
      "execution_count": null,
      "outputs": []
    },
    {
      "cell_type": "markdown",
      "metadata": {
        "id": "8pxkcjsm2JjL"
      },
      "source": [
        "### Step 3: Execute the operation"
      ]
    },
    {
      "cell_type": "code",
      "metadata": {
        "id": "If73zHWl1-tC"
      },
      "source": [
        "with tf.Session() as session:\n",
        "    result = session.run(multiply, feed_dict={X_1:[1,2,3], X_2:[4,5,6]})\n",
        "    print(result)"
      ],
      "execution_count": null,
      "outputs": []
    },
    {
      "cell_type": "code",
      "metadata": {
        "id": "wkREQMJQ2cs8"
      },
      "source": [
        ""
      ],
      "execution_count": null,
      "outputs": []
    }
  ]
}